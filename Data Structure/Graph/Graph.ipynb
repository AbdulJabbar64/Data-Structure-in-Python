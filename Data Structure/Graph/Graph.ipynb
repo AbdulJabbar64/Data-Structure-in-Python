{
  "nbformat": 4,
  "nbformat_minor": 0,
  "metadata": {
    "kernelspec": {
      "display_name": "Python 3",
      "language": "python",
      "name": "python3"
    },
    "language_info": {
      "codemirror_mode": {
        "name": "ipython",
        "version": 3
      },
      "file_extension": ".py",
      "mimetype": "text/x-python",
      "name": "python",
      "nbconvert_exporter": "python",
      "pygments_lexer": "ipython3",
      "version": "3.5.2"
    },
    "colab": {
      "name": "Graph.ipynb",
      "provenance": []
    }
  },
  "cells": [
    {
      "cell_type": "markdown",
      "metadata": {
        "id": "xUp2Em1IeA6n"
      },
      "source": [
        "### Implementation of Graph through Adjacency List"
      ]
    },
    {
      "cell_type": "code",
      "metadata": {
        "colab": {
          "base_uri": "https://localhost:8080/"
        },
        "id": "CXCJwJq1jO7J",
        "outputId": "0773d857-e184-40bb-e61f-d366e77404a4"
      },
      "source": [
        "class Graph:\r\n",
        "\r\n",
        "  def __init__(self):\r\n",
        "    self.numberofnodes = 0\r\n",
        "    self.adjacentlist = {}\r\n",
        "\r\n",
        "  def __str__(self):\r\n",
        "    return str(self.adjacentlist)\r\n",
        "  \r\n",
        "  def addVertex(self,node):\r\n",
        "    self.adjacentlist[node] = []\r\n",
        "    self.numberofnodes += 1\r\n",
        "\r\n",
        "  def addEdge(self,node1,node2):\r\n",
        "    self.adjacentlist[node1].append(node2)\r\n",
        "    self.adjacentlist[node2].append(node1)\r\n",
        "\r\n",
        "  def showconnection(self):\r\n",
        "    for i  in self.adjacentlist:\r\n",
        "            print(i,'-->','  '.join([str(j) for j in self.adjacentlist[i]]))\r\n",
        "\r\n",
        "    # for x in self.adjacentlist:\r\n",
        "    #   print(x , end = '-->')\r\n",
        "    #   for i in self.adjacentlist[x]:\r\n",
        "    #     print(i , end = ' ') \r\n",
        "    #   print()\r\n",
        "\r\n",
        "myGraph = Graph()\r\n",
        "myGraph.addVertex('0')\r\n",
        "myGraph.addVertex('1')\r\n",
        "myGraph.addVertex('2')\r\n",
        "myGraph.addVertex('3')\r\n",
        "\r\n",
        "myGraph.addEdge('0', '1') \r\n",
        "myGraph.addEdge('0', '2') \r\n",
        "myGraph.addEdge('1', '2') \r\n",
        "myGraph.addEdge('0', '3')\r\n",
        "print(myGraph)\r\n",
        "myGraph.showconnection()\r\n"
      ],
      "execution_count": 19,
      "outputs": [
        {
          "output_type": "stream",
          "text": [
            "{'0': ['1', '2', '3'], '1': ['0', '2'], '2': ['0', '1'], '3': ['0']}\n",
            "0 --> 1  2  3\n",
            "1 --> 0  2\n",
            "2 --> 0  1\n",
            "3 --> 0\n"
          ],
          "name": "stdout"
        }
      ]
    },
    {
      "cell_type": "code",
      "metadata": {
        "id": "hsfVX7ddjmO0"
      },
      "source": [
        ""
      ],
      "execution_count": null,
      "outputs": []
    }
  ]
}