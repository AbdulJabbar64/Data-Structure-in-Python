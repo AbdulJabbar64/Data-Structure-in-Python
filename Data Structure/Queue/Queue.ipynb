{
  "nbformat": 4,
  "nbformat_minor": 0,
  "metadata": {
    "colab": {
      "name": "Queue.ipynb",
      "provenance": []
    },
    "kernelspec": {
      "name": "python3",
      "display_name": "Python 3"
    }
  },
  "cells": [
    {
      "cell_type": "code",
      "metadata": {
        "id": "cui9l3s3YjBT"
      },
      "source": [
        "class Queue:\r\n",
        "\r\n",
        "    def __init__(self):\r\n",
        "        self.queue = []\r\n",
        "\r\n",
        "    def isEmpty(self):\r\n",
        "        return self.queue == []\r\n",
        "    \r\n",
        "    def enqueue(self, item):\r\n",
        "        self.queue.append(item)\r\n",
        "\r\n",
        "    def dequeue(self):\r\n",
        "        if len(self.queue) < 1:\r\n",
        "            return None\r\n",
        "        return self.queue.pop(0)\r\n",
        "\r\n",
        "    def top(self):\r\n",
        "      return self.queue[0]\r\n",
        "\r\n",
        "    def size(self):\r\n",
        "        return len(self.queue) \r\n",
        "    \r\n",
        "    def print_Stack(self):\r\n",
        "      print(self.queue)\r\n",
        "\r\n",
        "\r\n",
        "queue_1 = Queue()\r\n",
        "\r\n",
        "queue_1.enqueue([3,4,5,6,7])\r\n",
        "queue_1.enqueue(\"hello\")\r\n",
        "queue_1.enqueue(\"world\")\r\n",
        "queue_1.enqueue(\"hy\")\r\n",
        "queue_1.enqueue(224)\r\n",
        "queue_1.enqueue(4.34)\r\n",
        "# queue_1.enqueue([3,4,5,6,7])\r\n",
        "queue_1.print_Stack()\r\n",
        "queue_1.dequeue()\r\n",
        "queue_1.print_Stack()\r\n",
        "queue_1.isEmpty()\r\n",
        "queue_1.top()"
      ],
      "execution_count": null,
      "outputs": []
    },
    {
      "cell_type": "code",
      "metadata": {
        "id": "cEjeHVocZdPb"
      },
      "source": [
        ""
      ],
      "execution_count": null,
      "outputs": []
    }
  ]
}