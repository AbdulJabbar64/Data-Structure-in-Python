{
  "nbformat": 4,
  "nbformat_minor": 0,
  "metadata": {
    "colab": {
      "name": "Stack.ipynb",
      "provenance": []
    },
    "kernelspec": {
      "name": "python3",
      "display_name": "Python 3"
    }
  },
  "cells": [
    {
      "cell_type": "code",
      "metadata": {
        "colab": {
          "base_uri": "https://localhost:8080/",
          "height": 86
        },
        "id": "sVBrRsC4Qd_F",
        "outputId": "30cec48a-709f-41ef-f824-d9ba56d2bcba"
      },
      "source": [
        "\r\n",
        "class Stack:\r\n",
        "\r\n",
        "    def __init__(self):\r\n",
        "        self.stack = []\r\n",
        "    \r\n",
        "    def isEmpty(self):\r\n",
        "        return self.stack == []\r\n",
        "    \r\n",
        "    def pop(self):\r\n",
        "        if len(self.stack) < 1:\r\n",
        "            return None\r\n",
        "        return self.stack.pop()\r\n",
        "    \r\n",
        "    def top(self):\r\n",
        "      # temp = len(stack)\r\n",
        "      return self.stack[len(self.stack)-1]\r\n",
        "\r\n",
        "    def push(self, item):\r\n",
        "        self.stack.append(item)\r\n",
        "\r\n",
        "    def size(self):\r\n",
        "        return len(self.stack)\r\n",
        "    \r\n",
        "    def print_Stack(self):\r\n",
        "      print(self.stack)\r\n",
        "\r\n",
        "stack_1 = Stack()\r\n",
        "\r\n",
        "stack_1.push(\"hello\")\r\n",
        "stack_1.push(\"world\")\r\n",
        "stack_1.push(\"hy,  I am Abdul Jabbar\")\r\n",
        "stack_1.print_Stack()\r\n",
        "print(stack_1.pop())\r\n",
        "stack_1.print_Stack()\r\n",
        "stack_1.top()\r\n"
      ],
      "execution_count": null,
      "outputs": [
        {
          "output_type": "stream",
          "text": [
            "['hello', 'world', 'hy,  I am Abdul Jabbar']\n",
            "hy,  I am Abdul Jabbar\n",
            "['hello', 'world']\n"
          ],
          "name": "stdout"
        },
        {
          "output_type": "execute_result",
          "data": {
            "application/vnd.google.colaboratory.intrinsic+json": {
              "type": "string"
            },
            "text/plain": [
              "'world'"
            ]
          },
          "metadata": {
            "tags": []
          },
          "execution_count": 3
        }
      ]
    },
    {
      "cell_type": "code",
      "metadata": {
        "id": "KZ31QS2wQfKH"
      },
      "source": [
        ""
      ],
      "execution_count": null,
      "outputs": []
    }
  ]
}